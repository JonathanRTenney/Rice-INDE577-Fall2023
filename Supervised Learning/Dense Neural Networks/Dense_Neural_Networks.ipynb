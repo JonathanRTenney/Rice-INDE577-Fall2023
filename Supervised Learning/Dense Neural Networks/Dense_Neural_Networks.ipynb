{
 "cells": [
  {
   "cell_type": "markdown",
   "metadata": {},
   "source": [
    "## Introduction to Dense Neural Networks\n",
    "\n",
    "Dense Neural Networks, also known as fully connected neural networks, are a foundational concept in the field of deep learning and artificial intelligence. They represent a significant advancement from single-layer models like the Perceptron and form the basis for many complex neural network architectures used today.\n",
    "\n",
    "### What are Dense Neural Networks?\n",
    "\n",
    "A Dense Neural Network consists of multiple layers of neurons, each connected to all neurons in the previous and subsequent layers. These networks are \"dense\" because of the high level of connectivity between neurons. Each neuron in a Dense Neural Network performs a weighted sum of its inputs, applies an activation function, and passes the result to the next layer.\n",
    "\n",
    "## How Do Dense Neural Networks Work?\n",
    "\n",
    "The operation of a Dense Neural Network can be summarized in the following steps:\n",
    "1. **Initialization**: Weights and biases are initialized, often randomly.\n",
    "2. **Forward Propagation**: Starting from the input layer, the network processes the inputs through its layers. Each neuron computes a weighted sum of its inputs and an activation function is applied.\n",
    "3. **Output Layer**: The final layer produces the output of the network, which can be a classification or regression result.\n",
    "4. **Backpropagation and Weight Update**: The network learns from errors in its output by adjusting the weights. This process uses algorithms like gradient descent and backpropagation to minimize error.\n",
    "5. **Iteration**: The process of forward propagation, error calculation, and backpropagation is repeated, often across many epochs, until the model's performance is satisfactory.\n",
    "\n",
    "### Benefits of Dense Neural Networks\n",
    "\n",
    "- **Flexibility**: Can model complex, non-linear relationships in data.\n",
    "- **Scalability**: Suitable for a wide range of applications, from simple tasks to complex problems.\n",
    "- **Foundation for Deep Learning**: Understanding Dense Neural Networks is crucial for delving into more advanced deep learning architectures.\n",
    "\n",
    "Below is a visual representation of a Dense Neural Network:\n",
    "\n",
    "![Dense Neural Network Model](multilayerPerceptron.jpg)\n",
    "\n",
    "### Dense Neural Network Implementation\n",
    "\n",
    "We will start by importing necessary Python libraries and preparing the dataset for our neural network model.\n",
    "\n",
    "\n",
    "We will be using a good example of a tensor data set called the fashion_mnist data set:"
   ]
  },
  {
   "cell_type": "code",
   "execution_count": 30,
   "metadata": {},
   "outputs": [],
   "source": [
    "# The tensor data to analyze\n",
    "from tensorflow.keras.datasets import fashion_mnist \n",
    "import numpy as np\n",
    "import matplotlib.pyplot as plt\n",
    "\n",
    "# Use the keras module to import the necessary data - returns a pair of tuples\n",
    "(train_X, train_y), (test_X, test_y) = fashion_mnist.load_data()"
   ]
  },
  {
   "cell_type": "markdown",
   "metadata": {},
   "source": [
    "## Understanding the Fashion MNIST Dataset\n",
    "\n",
    "Fashion MNIST is a widely used dataset in the field of machine learning and computer vision, particularly for benchmarking various image recognition algorithms. It serves as a direct drop-in replacement for the original MNIST dataset, which was based on handwritten digits. The Fashion MNIST dataset was created to provide a more challenging problem set for classification algorithms, as the items in Fashion MNIST are more complex than the handwritten digits in the original MNIST.\n",
    "\n",
    "### Dataset Composition\n",
    "\n",
    "- **Number of Images**: Fashion MNIST contains 70,000 grayscale images in total, divided into 60,000 training images and 10,000 test images.\n",
    "- **Image Dimensions**: Each image is 28x28 pixels, represented in grayscale.\n",
    "- **Classes**: The dataset includes 10 different classes, representing different types of clothing and accessories, such as T-shirts/tops, trousers, pullovers, dresses, coats, sandals, shirts, sneakers, bags, and ankle boots.\n",
    "\n",
    "### Importance in Machine Learning\n",
    "\n",
    "- **Benchmarking**: Fashion MNIST is often used to benchmark the performance of machine learning algorithms, especially in the domain of image recognition.\n",
    "- **Challenging**: While being more complex than the original MNIST dataset, it still allows for quick experimentation and prototyping of algorithms.\n",
    "\n",
    "In the following sections, we will preprocess this dataset and use it to train and test a Dense Neural Network model.\n"
   ]
  },
  {
   "cell_type": "code",
   "execution_count": 31,
   "metadata": {},
   "outputs": [
    {
     "name": "stdout",
     "output_type": "stream",
     "text": [
      "np.shape(train_X) = (60000, 28, 28)\n",
      "np.shape(test_X) = (10000, 28, 28) \n",
      "\n",
      "np.shape(train_X[0]) = (28, 28)\n",
      "np.shape(test_X[0]) = (28, 28) \n",
      "\n"
     ]
    }
   ],
   "source": [
    "\n",
    "# The training data (60,000 samples to train and 10,000 to test model)\n",
    "print(f\"np.shape(train_X) = {np.shape(train_X)}\")\n",
    "print(f\"np.shape(test_X) = {np.shape(test_X)} \\n\")\n",
    "\n",
    "# The matrix for each object (where each element of the matrix corresponds to intensity)\n",
    "print(f\"np.shape(train_X[0]) = {np.shape(train_X[0])}\")\n",
    "print(f\"np.shape(test_X[0]) = {np.shape(test_X[0])} \\n\")\n"
   ]
  },
  {
   "cell_type": "markdown",
   "metadata": {},
   "source": [
    "\n",
    "## Inspecting Data Dimensions\n",
    "\n",
    "We now examine the shapes of our training and testing data to confirm their structure:\n",
    "\n",
    "- `train_X`: Shape indicates 60,000 training images.\n",
    "- `test_X`: Shape shows 10,000 testing images.\n",
    "\n",
    "Each image is a 28x28 pixel grayscale matrix. This verification helps us ensure the data is correctly structured for model input."
   ]
  },
  {
   "cell_type": "code",
   "execution_count": 32,
   "metadata": {},
   "outputs": [
    {
     "name": "stdout",
     "output_type": "stream",
     "text": [
      "train_y[0] = 9 \n",
      "\n"
     ]
    },
    {
     "data": {
      "image/png": "[encoded data removed]",
      "text/plain": [
       "<Figure size 600x500 with 1 Axes>"
      ]
     },
     "metadata": {},
     "output_type": "display_data"
    }
   ],
   "source": [
    "print(f\"{train_y[0] = } \\n\")\n",
    "plt.figure(figsize=(6, 5))\n",
    "plt.imshow(train_X[0], cmap=\"gray\")\n",
    "plt.show()"
   ]
  },
  {
   "cell_type": "markdown",
   "metadata": {},
   "source": [
    "## Data Preprocessing for Neural Network Input\n",
    "\n",
    "In preparation for training our Dense Neural Network, we perform the following preprocessing steps:\n",
    "\n",
    "1. **Normalization**: The pixel values of the images are scaled to a range of 0 to 1. This step is crucial for neural network models as it helps in achieving faster convergence during training.\n",
    "\n",
    "2. **Flattening Images**: We transform the 28x28 pixel images into 784-element vectors. This flattening process converts our 2D image data into a format suitable for the input layer of a dense neural network.\n",
    "\n",
    "3. **One-Hot Encoding Labels**: The categorical labels are converted into one-hot encoded vectors. This encoding transforms each label into a vector where the index corresponding to the label class is set to 1, and all other indices are 0. One-hot encoding is an effective way to handle categorical output in neural networks.\n"
   ]
  },
  {
   "cell_type": "code",
   "execution_count": 33,
   "metadata": {},
   "outputs": [],
   "source": [
    "# normalize the data to be a value from  0 to 1\n",
    "train_X = train_X/255\n",
    "test_X = test_X/255\n",
    "\n",
    "# Flatten the training images into coloumn vectors. \n",
    "flat_train_X = []\n",
    "# One hot encode the training labels\n",
    "onehot_train_y = []\n",
    "\n",
    "for x, y in zip(train_X, train_y):\n",
    "    flat_train_X.append(x.flatten().reshape(784, 1))\n",
    "    temp_vec = np.zeros((10, 1))\n",
    "    temp_vec[y][0] = 1.0\n",
    "    onehot_train_y.append(temp_vec)\n",
    "   \n",
    "\n",
    "# Do the same for the testing data \n",
    "flat_test_X = []\n",
    "onehot_test_y = []\n",
    "\n",
    "for x, y in zip(test_X, test_y):\n",
    "    flat_test_X.append(x.flatten().reshape(784, 1))\n",
    "    temp_vec = np.zeros((10, 1))\n",
    "    temp_vec[y] = 1.0\n",
    "    onehot_test_y.append(temp_vec)"
   ]
  },
  {
   "cell_type": "markdown",
   "metadata": {},
   "source": [
    "## Building the Neural Network Model\n",
    "\n",
    "In this phase, we construct our Dense Neural Network. The network will have an input layer of 784 nodes (corresponding to the 784 pixels of each flattened image) and a customizable number of hidden layers. We will use the sigmoid function as the activation function for the nodes. For evaluating the model's performance, the mean squared error (MSE) will serve as our cost function.\n",
    "\n",
    "### Key Functions for the Model\n",
    "\n",
    "1. **Sigmoid Function**: \n",
    "   - Used as the activation function in our neural network.\n",
    "   - It maps any input value to a value between 0 and 1, which is essential for binary classifications and ensuring the output of neurons is normalized.\n",
    "\n",
    "2. **Derivative of the Sigmoid Function**: \n",
    "   - Important for the backpropagation step in training, as it helps in calculating the gradient of the loss function with respect to the weights.\n",
    "\n",
    "3. **Mean Squared Error (MSE)**: \n",
    "   - This function calculates the average of the squares of the errors or deviations (i.e., the difference between the predicted values and the actual values).\n",
    "   - We use MSE as the cost function to measure the model's prediction accuracy.\n",
    "\n",
    "With these functions defined, we'll be able to implement forward and backward propagation for training our neural network.\n"
   ]
  },
  {
   "cell_type": "code",
   "execution_count": 34,
   "metadata": {},
   "outputs": [],
   "source": [
    "def sigmoid(z):\n",
    "    return 1.0/(1.0+np.exp(-z))\n",
    "\n",
    "def d_sigmoid(z):\n",
    "    return sigmoid(z)*(1.0 - sigmoid(z))\n",
    "\n",
    "def mse(a, y):\n",
    "    return .5*sum((a[i] - y[i])**2 for i in range(10))[0]"
   ]
  },
  {
   "cell_type": "markdown",
   "metadata": {},
   "source": [
    "## Initializing the Network Weights\n",
    "\n",
    "The next step in setting up our Dense Neural Network is to initialize the weights and biases. Proper initialization is crucial for the convergence and performance of the network during training.\n",
    "\n",
    "### Weight Initialization Function\n",
    "\n",
    "We define a function to initialize weights and biases for each layer in our network:\n",
    "\n",
    "- **Input Layer Size (784)**: Corresponds to the 784 elements in each flattened input image.\n",
    "- **Customizable Layer Configuration**: The function allows us to specify the number of neurons in each layer, including the hidden layers. This flexibility enables us to experiment with different network architectures.\n",
    "- **Output Layer Size (10)**: Matches the 10 possible categories in the Fashion MNIST dataset.\n",
    "\n",
    "### Key Aspects of the Initialization Function:\n",
    "\n",
    "- **Weights and Biases for Each Layer**: The function initializes weights and biases for each layer, except for the input layer which doesn't have any weights.\n",
    "- **Random Initialization with Scaling**: We use a scaled random normal distribution for initializing weights. Multiplying by `np.sqrt(2/layers[i-1])` helps in maintaining a balance in the variance of the activations throughout the network, which is beneficial for the learning process.\n",
    "\n",
    "This initialization strategy sets the stage for effective training of the neural network.\n"
   ]
  },
  {
   "cell_type": "code",
   "execution_count": 35,
   "metadata": {},
   "outputs": [],
   "source": [
    "def initialize_weights(layers = [784, 60, 60, 10]):\n",
    "    # The following Python lists will contain numpy matrices\n",
    "    # connected the layers in the neural network \n",
    "    # no weights on the 0'th layer.\n",
    "    W = [[0.0]]\n",
    "    B = [[0.0]]\n",
    "    # for 3 layers in this case\n",
    "    for i in range(1, len(layers)):\n",
    "        # multiplying by np.sqrt(2/layers[i-1]) scales all of the weights together\n",
    "        w_temp = np.random.randn(layers[i], layers[i-1])*np.sqrt(2/layers[i-1])\n",
    "        b_temp = np.random.randn(layers[i], 1)*np.sqrt(2/layers[i-1])\n",
    "    \n",
    "        W.append(w_temp)\n",
    "        B.append(b_temp)\n",
    "    return W, B"
   ]
  },
  {
   "cell_type": "markdown",
   "metadata": {},
   "source": [
    "## Feedforward Phase of the Neural Network\n",
    "\n",
    "Having initialized the weights and prepared our data, we now proceed to the feedforward phase. This is a crucial step where the network makes predictions based on the input data.\n",
    "\n",
    "### Process Overview\n",
    "\n",
    "1. **Selecting an Input Sample**: We start by selecting a single flattened image (`xi`) and its corresponding one-hot encoded label (`yi`) from our preprocessed training data.\n",
    "\n",
    "2. **Initial Activation (`a0`)**: The selected flattened image serves as the initial activation for the input layer of the network.\n",
    "\n",
    "3. **Executing the Forward Pass**: \n",
    "   - The `forward_pass` function takes the initial activation, weights (`W`), biases (`B`), and the sigmoid activation function as inputs.\n",
    "   - It computes the activations for each layer in the network.\n",
    "   - The function also prints the shapes of the weights, the computed linear combinations (`z`), and the activations (`a`) at each layer for insight into the network's operation.\n",
    "\n",
    "4. **Obtaining the Output (`y_hat`)**: \n",
    "   - The final output of the network is the last activation, which is our prediction.\n",
    "   - We use `np.argmax` on `y_hat` to determine the predicted class.\n",
    "\n",
    "5. **Prediction and Performance Evaluation**:\n",
    "   - We compare the predicted class with the actual label (`yi`).\n",
    "   - The Mean Squared Error (MSE) between the prediction and the actual label is calculated to evaluate the performance of the network on this single sample.\n",
    "\n",
    "### Insight from the Feedforward Phase\n",
    "\n",
    "This phase is critical in understanding how well our neural network processes an individual input. By examining the shapes of the activations and weights at each layer, as well as the MSE, we gain valuable insights into the network's functioning and can troubleshoot or optimize the architecture accordingly.\n",
    "\n"
   ]
  },
  {
   "cell_type": "code",
   "execution_count": 36,
   "metadata": {},
   "outputs": [
    {
     "name": "stdout",
     "output_type": "stream",
     "text": [
      "np.shape(a0) = (784, 1) \n",
      "\n",
      "np.shape(W[1]) = (60, 784)\n",
      "np.shape(z1) = (60, 1)\n",
      "np.shape(a1) = (60, 1) \n",
      "\n",
      "np.shape(W[2]) = (60, 60)\n",
      "np.shape(z2) = (60, 1)\n",
      "np.shape(a2) = (60, 1) \n",
      "\n",
      "np.shape(W[3]) = (10, 60)\n",
      "np.shape(z3) = (10, 1)\n",
      "np.shape(a3) = (10, 1) \n",
      "\n",
      "Prediction: np.argmax(y_hat) = 7\n",
      "Target Label: np.argmax(yi) = 9\n",
      "mse(y_hat, yi) = 1.5161062095958178\n"
     ]
    }
   ],
   "source": [
    "# Grab one of the flattened matrices\n",
    "xi = flat_train_X[0]\n",
    "# Hot-encoded vector associated with xi\n",
    "yi = onehot_train_y[0]\n",
    "a0 = xi\n",
    "\n",
    "print(f\"np.shape(a0) = {np.shape(a0)} \\n\")\n",
    "\n",
    "\n",
    "def forward_pass(W, B, input_vec, activation_function):\n",
    "    a = input_vec\n",
    "    activations = [a]  # List to store all activations, layer by layer\n",
    "\n",
    "    for i, (w, b) in enumerate(zip(W[1:], B[1:]), start=1):  # Skip the first layer as it's the input layer\n",
    "        z = np.dot(w, a) + b\n",
    "        a = activation_function(z)\n",
    "        activations.append(a)\n",
    "\n",
    "        # Print shapes in the specified format\n",
    "        print(f\"np.shape(W[{i}]) = {w.shape}\")\n",
    "        print(f\"np.shape(z{i}) = {z.shape}\")\n",
    "        print(f\"np.shape(a{i}) = {a.shape} \\n\")\n",
    "\n",
    "    return activations\n",
    "\n",
    "# By default is 784, 60, 60, 10\n",
    "W, B = initialize_weights()\n",
    "\n",
    "# Perform forward pass\n",
    "activations = forward_pass(W, B, xi, sigmoid)\n",
    "\n",
    "# The output of the network (y_hat) is the last activation\n",
    "y_hat = activations[-1]\n",
    "\n",
    "# y_hat will be the prediction (entry with highest numerical value is the prediction)\n",
    "print(f\"Prediction: np.argmax(y_hat) = {np.argmax(y_hat)}\")\n",
    "print(f\"Target Label: np.argmax(yi) = {np.argmax(yi)}\")\n",
    "print(f\"mse(y_hat, yi) = {mse(y_hat, yi)}\")\n"
   ]
  },
  {
   "cell_type": "markdown",
   "metadata": {},
   "source": [
    "This is also a good sanity check to see that the dimensions of each layer are correct. In this case we see that the dimensions match up."
   ]
  },
  {
   "cell_type": "markdown",
   "metadata": {},
   "source": [
    "## Refinement of Forward Pass and Prediction\n",
    "\n",
    "Here, we refined the `forward_pass` function to include an option for returning only the final activation layer when making predictions. This enhancement streamlines the process of using our neural network model for actual predictions.\n",
    "\n",
    "- The function now accepts a `predict_vector` flag. When set to `True`, it returns only the output layer's activation, which is directly used for prediction.\n",
    "- The `predict` function is introduced for a more straightforward way to obtain predictions. It utilizes the updated `forward_pass` function and applies `np.argmax` to identify the most likely class.\n",
    "\n",
    "In testing this setup, we can quickly evaluate the neural network's performance on individual samples, making the process more efficient.\n"
   ]
  },
  {
   "cell_type": "code",
   "execution_count": 37,
   "metadata": {},
   "outputs": [
    {
     "name": "stdout",
     "output_type": "stream",
     "text": [
      "Prediction: np.argmax(y_hat) = 7\n",
      "Target Label: np.argmax(yi) = 9\n",
      "mse(y_hat, yi) = 1.5161062095958178\n"
     ]
    }
   ],
   "source": [
    "def forward_pass(W, B, xi, predict_vector = False):\n",
    "    Z = [[0.0]]\n",
    "    A = [xi]\n",
    "    L = len(W) - 1\n",
    "    for i in range(1, L + 1):\n",
    "        z = W[i] @ A[i-1] + B[i]\n",
    "        Z.append(z)\n",
    "        \n",
    "        a = sigmoid(z)\n",
    "        A.append(a)\n",
    "        \n",
    "    if predict_vector == False:\n",
    "        return Z, A\n",
    "    else:\n",
    "        return A[-1]\n",
    "\n",
    "def predict(W, B, xi):\n",
    "    _, A = forward_pass(W, B, xi)\n",
    "    return np.argmax(A[-1])\n",
    "\n",
    "y_hat = forward_pass(W, B, flat_train_X[0], predict_vector=True)\n",
    "print(f\"Prediction: np.argmax(y_hat) = {np.argmax(y_hat)}\")\n",
    "print(f\"Target Label: np.argmax(yi) = {np.argmax(yi)}\")\n",
    "print(f\"mse(y_hat, yi) = {mse(y_hat, yi)}\")"
   ]
  },
  {
   "cell_type": "code",
   "execution_count": 38,
   "metadata": {},
   "outputs": [],
   "source": [
    "# See how this works from a random pick on a large data set (Test functionality)\n",
    "def random_experiment(W, B, data_features, data_labels):\n",
    "    i = np.random.randint(len(data_features))\n",
    "    print(f\"Actual label: {np.argmax(data_labels[i])}\")\n",
    "    print(f\"Predicted label: {predict(W, B, data_features[i])}\")\n",
    "    \n",
    "# Mean Squared error\n",
    "def MSE(W, B, X, y):\n",
    "    cost = 0.0\n",
    "    m = 0\n",
    "    for xi, yi in zip(X, y):\n",
    "        a = forward_pass(W, B, xi, predict_vector = True)\n",
    "        cost += mse(a, yi)\n",
    "        m+=1\n",
    "    return cost/m"
   ]
  },
  {
   "cell_type": "code",
   "execution_count": 39,
   "metadata": {},
   "outputs": [
    {
     "name": "stdout",
     "output_type": "stream",
     "text": [
      "MSE(W, B, flat_train_X, onehot_train_y) = 1.4166267522616112 \n",
      "\n",
      "Actual label: 4\n",
      "Predicted label: 2\n"
     ]
    }
   ],
   "source": [
    "print(f\"MSE(W, B, flat_train_X, onehot_train_y) = {MSE(W, B, flat_train_X, onehot_train_y)} \\n\")\n",
    "\n",
    "random_experiment(W, B, flat_train_X, onehot_train_y)"
   ]
  },
  {
   "cell_type": "markdown",
   "metadata": {},
   "source": [
    "## Training Process in Dense Neural Networks\n",
    "\n",
    "The training process of our `DenseNetwork` class is rooted in fundamental concepts of machine learning and neural network theory. Let's delve into the mathematical algorithm behind the training method.\n",
    "\n",
    "### Stochastic Gradient Descent (SGD)\n",
    "\n",
    "At the heart of the training process lies Stochastic Gradient Descent (SGD), a powerful optimization algorithm. SGD iteratively updates the network's weights and biases to minimize the cost function, in our case, the Mean Squared Error (MSE). The key steps are as follows:\n",
    "\n",
    "1. **Initial Cost Evaluation**: We start by calculating the initial cost (MSE) using the current state of the network. This serves as a baseline for evaluating improvements.\n",
    "\n",
    "2. **Iterative Updates**: For each epoch, the algorithm goes through the entire training dataset. Each training sample leads to a slight update in the network's parameters.\n",
    "\n",
    "3. **Backpropagation**: For each training sample, the error between the network's prediction and the actual label is computed. This error is then propagated backward through the network, calculating the gradient of the error with respect to each weight and bias.\n",
    "\n",
    "4. **Parameter Update**: The weights and biases are updated in the opposite direction of the gradient. The learning rate `alpha` controls the size of these updates. Smaller learning rates lead to finer adjustments, while larger rates accelerate the training but may overshoot the optimal values.\n",
    "\n",
    "5. **Convergence Monitoring**: After each epoch, the overall cost is recalculated. Ideally, this cost should decrease over epochs, indicating that the network is learning.\n",
    "\n",
    "### Significance of Backpropagation\n",
    "\n",
    "Backpropagation is critical as it allows the network to learn from its errors. By adjusting weights and biases in response to the error gradient, the network incrementally improves its predictions. This process is akin to fine-tuning, where each iteration brings the network closer to the desired performance.\n",
    "\n",
    "### Epoch-Based Learning\n",
    "\n",
    "Learning is conducted over multiple epochs, allowing the network to repeatedly learn from the entire dataset. This repetition is crucial for deep learning models, as it helps in solidifying the learning and achieving more stable and accurate predictions.\n"
   ]
  },
  {
   "cell_type": "code",
   "execution_count": 40,
   "metadata": {},
   "outputs": [],
   "source": [
    "class DenseNetwork(object):\n",
    "    def __init__(self, layers = [784, 60, 60, 10]):\n",
    "        self.layers = layers\n",
    "        self.W, self.B = initialize_weights(layers = self.layers)\n",
    "\n",
    "    def train(self, X_train, y_train, alpha = 0.046, epochs = 4):\n",
    "        # Print the initial mean squared error\n",
    "        self.errors_ = [MSE(self.W, self.B, X_train, y_train)]\n",
    "        print(f\"Starting Cost = {self.errors_[0]}\")\n",
    "\n",
    "        # Find your sample size\n",
    "        sample_size = len(X_train)\n",
    "\n",
    "        # Find the number of non-input layers.\n",
    "        L = len(self.layers) - 1\n",
    "\n",
    "        # For each epoch perform stochastic gradient descent. \n",
    "        for k in range(epochs):\n",
    "            # Loop over each (xi, yi) training pair of data.\n",
    "            for xi, yi in zip(X_train, y_train):\n",
    "                # Use the forward pass function defined before\n",
    "                # and find the preactivation and postactivation values.\n",
    "                Z, A = forward_pass(self.W, self.B, xi)\n",
    "\n",
    "                # Store the errors in a dictionary for clear interpretation\n",
    "                # of computation of these values.\n",
    "                deltas = dict()\n",
    "\n",
    "                # Compute the output error \n",
    "                output_error = (A[L] - yi)*d_sigmoid(Z[L])\n",
    "                deltas[L] = output_error\n",
    "\n",
    "                # Loop from L-1 to 1. Recall the right entry of the range function \n",
    "                # is non-inclusive. \n",
    "                for i in range(L-1, 0, -1):\n",
    "                    # Compute the node errors at each hidden layer\n",
    "                    deltas[i] = (self.W[i+1].T @ deltas[i+1])*d_sigmoid(Z[i])\n",
    "\n",
    "                # Loop over each hidden layer and the output layer to perform gradient \n",
    "                # descent. \n",
    "                for i in range(1, L+1):\n",
    "                    self.W[i] -= alpha*deltas[i] @ A[i-1].T\n",
    "                    self.B[i] -= alpha*deltas[i]\n",
    "\n",
    "            # Show the user the cost over all training examples\n",
    "            self.errors_.append(MSE(self.W, self.B, X_train, y_train))   \n",
    "            print(f\"{k + 1}-Epoch Cost = {self.errors_[-1]}\")\n",
    "    \n",
    "\n",
    "    def predict(self, xi):\n",
    "        depth = len(self.layers)\n",
    "        _, A = forward_pass(self.W, self.B, xi)\n",
    "        return np.argmax(A[-1])"
   ]
  },
  {
   "cell_type": "code",
   "execution_count": 41,
   "metadata": {},
   "outputs": [
    {
     "name": "stdout",
     "output_type": "stream",
     "text": [
      "MSE(net.W, net.B, flat_train_X, onehot_train_y) = 1.7688745843649447 \n",
      "\n",
      "predicted output is: 2\n",
      "actual output is: 7\n"
     ]
    },
    {
     "data": {
      "image/png": "[encoded data removed]",
      "text/plain": [
       "<Figure size 800x800 with 1 Axes>"
      ]
     },
     "metadata": {},
     "output_type": "display_data"
    }
   ],
   "source": [
    "# Initialize a network with 784 input nodes, two hidden layers with 60 nodes each \n",
    "# and a output layer with 10 nodes. \n",
    "net = DenseNetwork(layers = [784, 60, 60, 10])\n",
    "\n",
    "# Check the mean squared error before training \n",
    "print(f\"MSE(net.W, net.B, flat_train_X, onehot_train_y) = {MSE(net.W, net.B, flat_train_X, onehot_train_y)} \\n\")\n",
    "\n",
    "# Make a random prediction before training\n",
    "i = np.random.randint(0, len(flat_test_X))\n",
    "prediction = net.predict(flat_test_X[i])\n",
    "print(f\"predicted output is: {prediction}\")\n",
    "print(f\"actual output is: {np.argmax(onehot_test_y[i])}\")\n",
    "plt.figure(figsize=(8, 8))\n",
    "plt.imshow(test_X[i], cmap=\"gray\")\n",
    "plt.show()"
   ]
  },
  {
   "cell_type": "markdown",
   "metadata": {},
   "source": [
    "The neural network hasn't been trained, so it is expected that predicted value is incorrect."
   ]
  },
  {
   "cell_type": "code",
   "execution_count": 42,
   "metadata": {},
   "outputs": [
    {
     "name": "stdout",
     "output_type": "stream",
     "text": [
      "Starting Cost = 1.7688745843649447\n",
      "1-Epoch Cost = 0.12009781635704167\n",
      "2-Epoch Cost = 0.1069763517684431\n",
      "3-Epoch Cost = 0.0997315825419647\n",
      "4-Epoch Cost = 0.09437926248807597\n"
     ]
    }
   ],
   "source": [
    "# Train your network with stochastic gradient descent!\n",
    "net.train(flat_train_X, onehot_train_y)"
   ]
  },
  {
   "cell_type": "markdown",
   "metadata": {},
   "source": [
    "## Training Outcome Analysis\n",
    "\n",
    "Post-training, we observe a trend of decreasing errors across epochs. However, the rate of reduction in error isn't as steep as one might hope for. This is likely attributed to the inherent complexity of the Fashion MNIST dataset, which poses a challenging task for the model's learning process.\n"
   ]
  },
  {
   "cell_type": "code",
   "execution_count": 43,
   "metadata": {},
   "outputs": [
    {
     "data": {
      "image/png": "[encoded data removed]",
      "text/plain": [
       "<Figure size 1000x800 with 1 Axes>"
      ]
     },
     "metadata": {},
     "output_type": "display_data"
    }
   ],
   "source": [
    "# Visualize the mean squared error over the training process \n",
    "plt.figure(figsize = (10, 8))\n",
    "epochs = range(len(net.errors_))\n",
    "plt.plot(epochs, net.errors_, marker = \"o\")\n",
    "plt.xticks(epochs)\n",
    "plt.xlabel(\"epochs\")\n",
    "plt.ylabel(\"Mean Squared Error\")\n",
    "plt.title(\"Network MSE During Training\", fontsize = 16)\n",
    "plt.show()"
   ]
  },
  {
   "cell_type": "markdown",
   "metadata": {},
   "source": [
    "## Visualizing MSE Across Epochs\n",
    "\n",
    "Upon graphing the Mean Squared Error (MSE) at each epoch, we notice a distinct pattern: a substantial initial drop in the error, followed by smaller, less significant decreases in subsequent epochs. This visualization highlights the initial rapid learning phase of the model, where it quickly grasps the basic patterns in the data. The smaller reductions thereafter suggest that further learning becomes more incremental, as the model starts to fine-tune its understanding of the more nuanced aspects of the dataset.\n"
   ]
  },
  {
   "cell_type": "markdown",
   "metadata": {},
   "source": [
    "We will now input images that the model has not seen these before."
   ]
  },
  {
   "cell_type": "code",
   "execution_count": 44,
   "metadata": {},
   "outputs": [
    {
     "name": "stdout",
     "output_type": "stream",
     "text": [
      "predicted digit is: 5\n",
      "actual digit is: 5\n"
     ]
    },
    {
     "data": {
      "image/png": "[encoded data removed]",
      "text/plain": [
       "<Figure size 800x800 with 1 Axes>"
      ]
     },
     "metadata": {},
     "output_type": "display_data"
    }
   ],
   "source": [
    "i = np.random.randint(0, len(flat_test_X))\n",
    "prediction = net.predict(flat_test_X[i])\n",
    "print(f\"predicted digit is: {prediction}\")\n",
    "print(f\"actual digit is: {np.argmax(onehot_test_y[i])}\")\n",
    "plt.figure(figsize=(8, 8))\n",
    "plt.imshow(test_X[i], cmap=\"gray\")\n",
    "plt.show()"
   ]
  },
  {
   "cell_type": "code",
   "execution_count": 45,
   "metadata": {},
   "outputs": [
    {
     "name": "stdout",
     "output_type": "stream",
     "text": [
      "predicted digit is: 6\n",
      "actual digit is: 6\n"
     ]
    },
    {
     "data": {
      "image/png": "[encoded data removed]",
      "text/plain": [
       "<Figure size 800x800 with 1 Axes>"
      ]
     },
     "metadata": {},
     "output_type": "display_data"
    }
   ],
   "source": [
    "i = np.random.randint(0, len(flat_test_X))\n",
    "prediction = net.predict(flat_test_X[i])\n",
    "print(f\"predicted digit is: {prediction}\")\n",
    "print(f\"actual digit is: {np.argmax(onehot_test_y[i])}\")\n",
    "plt.figure(figsize=(8, 8))\n",
    "plt.imshow(test_X[i], cmap=\"gray\")\n",
    "plt.show()"
   ]
  },
  {
   "cell_type": "code",
   "execution_count": 46,
   "metadata": {},
   "outputs": [
    {
     "name": "stdout",
     "output_type": "stream",
     "text": [
      "predicted digit is: 5\n",
      "actual digit is: 5\n"
     ]
    },
    {
     "data": {
      "image/png": "[encoded data removed]",
      "text/plain": [
       "<Figure size 800x800 with 1 Axes>"
      ]
     },
     "metadata": {},
     "output_type": "display_data"
    }
   ],
   "source": [
    "i = np.random.randint(0, len(flat_test_X))\n",
    "prediction = net.predict(flat_test_X[i])\n",
    "print(f\"predicted digit is: {prediction}\")\n",
    "print(f\"actual digit is: {np.argmax(onehot_test_y[i])}\")\n",
    "plt.figure(figsize=(8, 8))\n",
    "plt.imshow(test_X[i], cmap=\"gray\")\n",
    "plt.show()"
   ]
  },
  {
   "cell_type": "markdown",
   "metadata": {},
   "source": [
    "From the tests, the model appears to be accurate. We will check the classifcation accuracy below:"
   ]
  },
  {
   "cell_type": "code",
   "execution_count": 47,
   "metadata": {},
   "outputs": [
    {
     "data": {
      "text/plain": [
       "0.8516"
      ]
     },
     "execution_count": 47,
     "metadata": {},
     "output_type": "execute_result"
    }
   ],
   "source": [
    "# Compute the classification accuracy of our trained model on the test data\n",
    "sum([int(net.predict(x) == y) for x, y in zip(flat_test_X, test_y)])/len(onehot_test_y)"
   ]
  },
  {
   "cell_type": "markdown",
   "metadata": {},
   "source": [
    "## Evaluating Model Accuracy on Test Data\n",
    "\n",
    "After training, we assess the model's performance on the test dataset. The classification accuracy, calculated as the proportion of correct predictions, stands at around 85%. While this is a respectable figure, it does indicate that there is significant room for improvement.\n",
    "\n",
    "### Insights and Next Steps\n",
    "\n",
    "- **Data Complexity**: The Fashion MNIST dataset is inherently complex, featuring a variety of fashion items with intricate details. This complexity can inherently limit the accuracy achievable by simpler neural network architectures.\n",
    "- **Potential for Improvement**: Given the room for improvement, we plan to experiment with a more complex neural network. Increasing the number of layers and nodes in each layer could potentially enhance the model's ability to capture and learn more intricate patterns in the data, thereby improving accuracy.\n",
    "\n",
    "In pursuit of better performance, our next step will be to implement and train a neural network with increased depth and breadth to see if it yields better results in terms of accuracy.\n"
   ]
  },
  {
   "cell_type": "code",
   "execution_count": 48,
   "metadata": {},
   "outputs": [
    {
     "name": "stdout",
     "output_type": "stream",
     "text": [
      "Starting Cost = 1.2939579354711561\n",
      "1-Epoch Cost = 0.12983501475528908\n",
      "2-Epoch Cost = 0.10983125746533783\n",
      "3-Epoch Cost = 0.10075017980551396\n",
      "4-Epoch Cost = 0.09433500841793324\n"
     ]
    }
   ],
   "source": [
    "net = DenseNetwork(layers = [784, 120, 145, 120, 10])\n",
    "net.train(flat_train_X, onehot_train_y)"
   ]
  },
  {
   "cell_type": "code",
   "execution_count": 49,
   "metadata": {},
   "outputs": [
    {
     "data": {
      "text/plain": [
       "0.853"
      ]
     },
     "execution_count": 49,
     "metadata": {},
     "output_type": "execute_result"
    }
   ],
   "source": [
    "# Compute the classification accuracy of the new trained model on the test data\n",
    "sum([int(net.predict(x) == y) for x, y in zip(flat_test_X, test_y)])/len(onehot_test_y)"
   ]
  },
  {
   "cell_type": "markdown",
   "metadata": {},
   "source": [
    "## Experimenting with a More Complex Network\n",
    "\n",
    "To explore the potential for improved accuracy, we trained a more intricate version of our `DenseNetwork`, increasing the number of layers and nodes:\n",
    "\n",
    "- **New Architecture**: The network now consists of layers with 784, 120, 145, 120, and 10 nodes, respectively.\n",
    "\n",
    "### Performance of the Enhanced Model\n",
    "\n",
    "After training this more complex network, we evaluated its classification accuracy on the test dataset. Surprisingly, the accuracy observed is approximately 85.3%, which is similar to our previous simpler model.\n",
    "\n",
    "### Analysis\n",
    "\n",
    "- **Expectation vs. Reality**: While it was anticipated that a more complex network might perform better due to its increased capacity to learn intricate patterns, the results suggest otherwise. This can be attributed to several factors such as overfitting, where the model performs well on training data but fails to generalize effectively to unseen data.\n",
    "- **Model Complexity**: Adding more layers and nodes does not always guarantee better performance. It also increases the risk of overfitting and might require more nuanced tuning of parameters and training regimen.\n",
    "\n",
    "### Conclusion\n",
    "\n",
    "These results underscore the importance of careful architecture selection and parameter tuning in neural network models. It suggests that simply increasing the network's complexity is not always the straight path to higher accuracy. Future experiments could involve tweaking other aspects like learning rate, epoch number, and regularization techniques."
   ]
  }
 ],
 "metadata": {
  "kernelspec": {
   "display_name": "base",
   "language": "python",
   "name": "python3"
  },
  "language_info": {
   "codemirror_mode": {
    "name": "ipython",
    "version": 3
   },
   "file_extension": ".py",
   "mimetype": "text/x-python",
   "name": "python",
   "nbconvert_exporter": "python",
   "pygments_lexer": "ipython3",
   "version": "3.9.13"
  }
 },
 "nbformat": 4,
 "nbformat_minor": 2
}
